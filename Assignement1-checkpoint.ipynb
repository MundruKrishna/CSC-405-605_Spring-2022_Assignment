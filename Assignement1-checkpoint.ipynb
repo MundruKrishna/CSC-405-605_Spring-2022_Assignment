{
 "cells": [
  {
   "cell_type": "code",
   "execution_count": 5,
   "id": "b4fbeead-4a3e-46b8-af5f-675080f5aeb3",
   "metadata": {},
   "outputs": [
    {
     "name": "stdout",
     "output_type": "stream",
     "text": [
      "C:\\Users\\jayakrishna\\Documents\\DataScience_605_Assignments\\Assignment1\n"
     ]
    }
   ],
   "source": [
    "cd C:\\Users\\jayakrishna\\Documents\\DataScience_605_Assignments\\Assignment1"
   ]
  },
  {
   "cell_type": "code",
   "execution_count": 7,
   "id": "b1164a7b-8f0a-4b69-8c4a-9e4ded43540d",
   "metadata": {},
   "outputs": [
    {
     "ename": "TypeError",
     "evalue": "\"delimiter\" must be a 1-character string",
     "output_type": "error",
     "traceback": [
      "\u001b[1;31m---------------------------------------------------------------------------\u001b[0m",
      "\u001b[1;31mTypeError\u001b[0m                                 Traceback (most recent call last)",
      "\u001b[1;32mC:\\Users\\JAYAKR~1\\AppData\\Local\\Temp/ipykernel_5172/3953759200.py\u001b[0m in \u001b[0;36m<module>\u001b[1;34m\u001b[0m\n\u001b[0;32m      6\u001b[0m \u001b[1;31m# retrieve contents of file and put it in a list to fiddle with\u001b[0m\u001b[1;33m\u001b[0m\u001b[1;33m\u001b[0m\u001b[0m\n\u001b[0;32m      7\u001b[0m \u001b[1;32mwith\u001b[0m \u001b[0mopen\u001b[0m\u001b[1;33m(\u001b[0m\u001b[1;34m'sp-22-students.tsv'\u001b[0m\u001b[1;33m,\u001b[0m\u001b[1;34m'rt'\u001b[0m\u001b[1;33m)\u001b[0m \u001b[1;32mas\u001b[0m \u001b[0mf\u001b[0m\u001b[1;33m:\u001b[0m\u001b[1;33m\u001b[0m\u001b[1;33m\u001b[0m\u001b[0m\n\u001b[1;32m----> 8\u001b[1;33m     \u001b[0mreader\u001b[0m \u001b[1;33m=\u001b[0m \u001b[0mcsv\u001b[0m\u001b[1;33m.\u001b[0m\u001b[0mreader\u001b[0m\u001b[1;33m(\u001b[0m\u001b[0mf\u001b[0m\u001b[1;33m,\u001b[0m\u001b[0mdelimiter\u001b[0m\u001b[1;33m=\u001b[0m\u001b[1;34m\" \\t\"\u001b[0m\u001b[1;33m)\u001b[0m\u001b[1;33m\u001b[0m\u001b[1;33m\u001b[0m\u001b[0m\n\u001b[0m\u001b[0;32m      9\u001b[0m     \u001b[0mstudents\u001b[0m \u001b[1;33m=\u001b[0m \u001b[0mlist\u001b[0m\u001b[1;33m(\u001b[0m\u001b[0mreader\u001b[0m\u001b[1;33m)\u001b[0m\u001b[1;33m\u001b[0m\u001b[1;33m\u001b[0m\u001b[0m\n\u001b[0;32m     10\u001b[0m \u001b[1;33m\u001b[0m\u001b[0m\n",
      "\u001b[1;31mTypeError\u001b[0m: \"delimiter\" must be a 1-character string"
     ]
    }
   ],
   "source": [
    "# we'll need csv to retrieve csv file\n",
    "import csv\n",
    "# we'll need randint for generating a random integer\n",
    "from random import randint\n",
    "\n",
    "# retrieve contents of file and put it in a list to fiddle with\n",
    "with open('sp-22-students.tsv','rt') as f:\n",
    "    reader = csv.reader(f,delimiter=\"\\t\")\n",
    "    students = list(reader)\n",
    "\n",
    "# first item in the file is really just a heading\n",
    "students.remove(students[0])\n",
    "\n",
    "# grabbing size for use in for loop\n",
    "size = len(students)\n",
    "\n",
    "# these are to keep track of what group we are in for organized printing\n",
    "count = 1\n",
    "groupCount = 1\n",
    "\n",
    "for x in range(0, size):\n",
    "    # if this is true, we move onto the next group\n",
    "    if count > 4:\n",
    "        count = 1\n",
    "        groupCount += 1\n",
    "        \n",
    "    # this means we are the beginning of a group, and should print a title\n",
    "    if count == 1:\n",
    "        print('Group: %d' % (groupCount))\n",
    "        \n",
    "    # this is where we pull a random student from the file, put them in the group, and then remove them from the list\n",
    "    randVal = randint(0,len(students)-1)\n",
    "    print(randVal)\n",
    "    print(students[randVal])\n",
    "    students.remove(students[randVal])\n",
    "    \n",
    "    # if there aren't enough students left to make their own group, just add them to the last one\n",
    "    if len(students) >= 3:\n",
    "        count += 1"
   ]
  },
  {
   "cell_type": "code",
   "execution_count": 1,
   "id": "72308cd3-3039-4dcc-a630-17e0d880a8ab",
   "metadata": {},
   "outputs": [
    {
     "ename": "SyntaxError",
     "evalue": "invalid syntax (Temp/ipykernel_5172/2830201818.py, line 1)",
     "output_type": "error",
     "traceback": [
      "\u001b[1;36m  File \u001b[1;32m\"C:\\Users\\JAYAKR~1\\AppData\\Local\\Temp/ipykernel_5172/2830201818.py\"\u001b[1;36m, line \u001b[1;32m1\u001b[0m\n\u001b[1;33m    git init\u001b[0m\n\u001b[1;37m        ^\u001b[0m\n\u001b[1;31mSyntaxError\u001b[0m\u001b[1;31m:\u001b[0m invalid syntax\n"
     ]
    }
   ],
   "source": [
    "git init"
   ]
  },
  {
   "cell_type": "code",
   "execution_count": null,
   "id": "16df5c56-4a6a-4fb4-af79-55a851803357",
   "metadata": {},
   "outputs": [],
   "source": []
  }
 ],
 "metadata": {
  "kernelspec": {
   "display_name": "Python 3 (ipykernel)",
   "language": "python",
   "name": "python3"
  },
  "language_info": {
   "codemirror_mode": {
    "name": "ipython",
    "version": 3
   },
   "file_extension": ".py",
   "mimetype": "text/x-python",
   "name": "python",
   "nbconvert_exporter": "python",
   "pygments_lexer": "ipython3",
   "version": "3.9.7"
  },
  "toc-autonumbering": false,
  "toc-showcode": true,
  "toc-showmarkdowntxt": true
 },
 "nbformat": 4,
 "nbformat_minor": 5
}
