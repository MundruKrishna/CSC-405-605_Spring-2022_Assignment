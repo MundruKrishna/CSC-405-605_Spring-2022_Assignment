{
 "cells": [
  {
   "cell_type": "markdown",
   "metadata": {},
   "source": [
    "# Assignment 4 - Visualization\n",
    "\n",
    "\n",
    "## Deadline: 04/17/2022 11:59PM EST\n",
    "\n",
    "- Total: 7.5  \n",
    "- Code: 6.5  \n",
    "    - Task 1: 2  \n",
    "    - Task 2: 4.5  \n",
    "- Comments/Documentation: .5  \n",
    "\n",
    "\n",
    "**Note:** Interactive graphs will not render on github. This is fine... \n",
    "\n",
    "Late policy:\n",
    "- 20% off after deadline\n",
    "- Additional 10% off final grade each day after submission\n",
    "\n",
    "Plagiarism policy: see syllabus"
   ]
  },
  {
   "cell_type": "code",
   "execution_count": 4,
   "metadata": {},
   "outputs": [
    {
     "name": "stdout",
     "output_type": "stream",
     "text": [
      "Collecting plotly==5.7.0\n",
      "  Downloading plotly-5.7.0-py2.py3-none-any.whl (28.8 MB)\n",
      "Requirement already satisfied: six in c:\\users\\j_mundru\\anaconda3\\lib\\site-packages (from plotly==5.7.0) (1.16.0)\n",
      "Collecting tenacity>=6.2.0\n",
      "  Downloading tenacity-8.0.1-py3-none-any.whl (24 kB)\n",
      "Installing collected packages: tenacity, plotly\n",
      "Successfully installed plotly-5.7.0 tenacity-8.0.1\n",
      "Note: you may need to restart the kernel to use updated packages.\n"
     ]
    }
   ],
   "source": [
    "pip install plotly==5.7.0"
   ]
  },
  {
   "cell_type": "markdown",
   "metadata": {},
   "source": [
    "## Plotting Titanic Dataset"
   ]
  },
  {
   "cell_type": "code",
   "execution_count": 3,
   "metadata": {
    "tags": []
   },
   "outputs": [
    {
     "ename": "ModuleNotFoundError",
     "evalue": "No module named 'plotly'",
     "output_type": "error",
     "traceback": [
      "\u001b[1;31m---------------------------------------------------------------------------\u001b[0m",
      "\u001b[1;31mModuleNotFoundError\u001b[0m                       Traceback (most recent call last)",
      "\u001b[1;32m~\\AppData\\Local\\Temp\\3/ipykernel_3464/1736752267.py\u001b[0m in \u001b[0;36m<module>\u001b[1;34m\u001b[0m\n\u001b[0;32m      2\u001b[0m \u001b[1;32mimport\u001b[0m \u001b[0mnumpy\u001b[0m \u001b[1;32mas\u001b[0m \u001b[0mnp\u001b[0m\u001b[1;33m\u001b[0m\u001b[1;33m\u001b[0m\u001b[0m\n\u001b[0;32m      3\u001b[0m \u001b[1;32mimport\u001b[0m \u001b[0mmatplotlib\u001b[0m\u001b[1;33m.\u001b[0m\u001b[0mpyplot\u001b[0m \u001b[1;32mas\u001b[0m \u001b[0mmpltb\u001b[0m\u001b[1;33m\u001b[0m\u001b[1;33m\u001b[0m\u001b[0m\n\u001b[1;32m----> 4\u001b[1;33m \u001b[1;32mimport\u001b[0m \u001b[0mplotly\u001b[0m\u001b[1;33m.\u001b[0m\u001b[0mexpress\u001b[0m \u001b[1;32mas\u001b[0m \u001b[0mplty\u001b[0m\u001b[1;33m\u001b[0m\u001b[1;33m\u001b[0m\u001b[0m\n\u001b[0m\u001b[0;32m      5\u001b[0m \u001b[0mcolor_discrete_sequence\u001b[0m\u001b[1;33m=\u001b[0m\u001b[0mplty\u001b[0m\u001b[1;33m.\u001b[0m\u001b[0mcolors\u001b[0m\u001b[1;33m.\u001b[0m\u001b[0mqualitative\u001b[0m\u001b[1;33m.\u001b[0m\u001b[0mAlphabet\u001b[0m\u001b[1;33m\u001b[0m\u001b[1;33m\u001b[0m\u001b[0m\n\u001b[0;32m      6\u001b[0m \u001b[0mcolor\u001b[0m \u001b[1;33m=\u001b[0m \u001b[1;34m'#7B1C6D'\u001b[0m\u001b[1;33m\u001b[0m\u001b[1;33m\u001b[0m\u001b[0m\n",
      "\u001b[1;31mModuleNotFoundError\u001b[0m: No module named 'plotly'"
     ]
    }
   ],
   "source": [
    "import pandas as pd\n",
    "import numpy as np\n",
    "import matplotlib.pyplot as mpltb\n",
    "import plotly.express as plty\n",
    "color_discrete_sequence=plty.colors.qualitative.Alphabet\n",
    "color = '#7B1C6D'"
   ]
  },
  {
   "cell_type": "code",
   "execution_count": null,
   "metadata": {},
   "outputs": [],
   "source": [
    "titanic = pd.read_excel(\"../data/titanic.xls\", \"titanic\")\n",
    "titanic.head()"
   ]
  },
  {
   "cell_type": "markdown",
   "metadata": {},
   "source": [
    "# Task 1:\n",
    "\n",
    "With Matplotlib: \n",
    "\n",
    "1. Create a bar chart for **number** of passengers that survived by class\n",
    "2. Plot a histogram of fares paid for passengers. \n",
    "    - Use 30 bins\n",
    "    \n",
    "3. Repeat steps 1. and 2. with Plotly"
   ]
  },
  {
   "cell_type": "markdown",
   "metadata": {
    "tags": []
   },
   "source": [
    "##### Inorder to create a bar chart for number of passengers that survived by class first we need to get the data of the survived for all the three classes with the help of groupby function"
   ]
  },
  {
   "cell_type": "code",
   "execution_count": null,
   "metadata": {},
   "outputs": [],
   "source": [
    "survivedByClass=titanic.groupby(by='pclass')[['survived']].sum().reset_index()\n",
    "survivedByClass\n"
   ]
  },
  {
   "cell_type": "markdown",
   "metadata": {},
   "source": [
    "##### Now we have enough data let us plot the bar chat with the above data"
   ]
  },
  {
   "cell_type": "code",
   "execution_count": null,
   "metadata": {},
   "outputs": [],
   "source": [
    "mpltb.bar(survivedByClass['pclass'],survivedByClass['survived'], color = \"#7B1C6D\" )\n",
    "mpltb.xlabel('pclass')\n",
    "mpltb.ylabel('Number of survived')\n",
    "mpltb.title('Passengers that survived by class')\n",
    "mpltb.gcf().set_size_inches(12, 4)\n",
    " #mpltb.bar(index, data[row],)"
   ]
  },
  {
   "cell_type": "markdown",
   "metadata": {},
   "source": [
    "##### Let us Plot a histogram of fares paid for passengers using 30 bins"
   ]
  },
  {
   "cell_type": "code",
   "execution_count": null,
   "metadata": {},
   "outputs": [],
   "source": [
    "a=mpltb.hist(titanic['fare'], bins = 30,color = \"#7B1C6D\",histtype=\"barstacked\")\n",
    "mpltb.gcf().set_size_inches(12, 4)"
   ]
  },
  {
   "cell_type": "markdown",
   "metadata": {},
   "source": [
    "##### Let us plot the same plots using plotly"
   ]
  },
  {
   "cell_type": "code",
   "execution_count": null,
   "metadata": {},
   "outputs": [],
   "source": [
    "usingPltlybar=plty.bar(survivedByClass, x='pclass', y='survived',title=\"Passengers that survived by class\")\n",
    "usingPltlybar.show()\n",
    "\n",
    "usingPltlyHist=plty.histogram(titanic, x=\"fare\", nbins=30)\n",
    "usingPltlyHist.show()"
   ]
  },
  {
   "cell_type": "markdown",
   "metadata": {},
   "source": [
    "# Task 2:\n",
    "\n",
    "With Plotly, you will display maps of demographic information on the county level.\n",
    "\n",
    "1. Create a Choropleth map and show the total population on the county level.\n",
    "    - Set an appriorate values for range_color (use your distrection as to what makes sense)\n",
    "2. Repeat 1. but for Total Men\n",
    "3. Repeat 1. but for Total Women\n",
    "\n",
    "\n",
    "**Note:** A few states may not display which is fine."
   ]
  },
  {
   "cell_type": "code",
   "execution_count": null,
   "metadata": {},
   "outputs": [],
   "source": [
    "from urllib.request import urlopen\n",
    "import json\n",
    "with urlopen('https://raw.githubusercontent.com/plotly/datasets/master/geojson-counties-fips.json') as response:\n",
    "    counties = json.load(response)"
   ]
  },
  {
   "cell_type": "code",
   "execution_count": null,
   "metadata": {},
   "outputs": [],
   "source": [
    "df = pd.read_csv(\"../data/acs2015_county_data.csv\")\n",
    "df"
   ]
  },
  {
   "cell_type": "markdown",
   "metadata": {},
   "source": [
    "##### Let us plot Choropleth for total population using TotalPop data from the given Dataset in the same way let us plot the same plots for Population for men and women in two different graphs as asked"
   ]
  },
  {
   "cell_type": "code",
   "execution_count": null,
   "metadata": {},
   "outputs": [],
   "source": [
    "fig = plty.choropleth(df,title=\"Total population on the county level\",scope=\"usa\", geojson=counties, locations='FIPS', color='TotalPop',color_continuous_scale=\"peach\",range_color=(5000,10000), labels={'unemp':'unemployment rate'} )\n",
    "fig.update_layout(margin={\"r\":0,\"t\":50,\"l\":5,\"b\":0})\n",
    "fig.show()"
   ]
  },
  {
   "cell_type": "code",
   "execution_count": null,
   "metadata": {},
   "outputs": [],
   "source": [
    "fig = plty.choropleth(df,title=\"Total Men population on the county level\",scope=\"usa\", geojson=counties, locations='FIPS', color='Men',color_continuous_scale=\"peach\",range_color=(5000,10000), labels={'unemp':'unemployment rate'} )\n",
    "fig.update_layout(margin={\"r\":0,\"t\":50,\"l\":0,\"b\":0})\n",
    "fig.show()"
   ]
  },
  {
   "cell_type": "code",
   "execution_count": null,
   "metadata": {},
   "outputs": [],
   "source": [
    "fig = plty.choropleth(df,title=\"Total Women population on the county level\",scope=\"usa\", geojson=counties, locations='FIPS', color='Women',color_continuous_scale=\"peach\",range_color=(5000,10000), labels={'unemp':'unemployment rate'} )\n",
    "\n",
    "fig.update_layout(margin={\"r\":0,\"t\":50,\"l\":0,\"b\":0})\n",
    "fig.show()"
   ]
  }
 ],
 "metadata": {
  "kernelspec": {
   "display_name": "Python 3 (ipykernel)",
   "language": "python",
   "name": "python3"
  },
  "language_info": {
   "codemirror_mode": {
    "name": "ipython",
    "version": 3
   },
   "file_extension": ".py",
   "mimetype": "text/x-python",
   "name": "python",
   "nbconvert_exporter": "python",
   "pygments_lexer": "ipython3",
   "version": "3.9.7"
  }
 },
 "nbformat": 4,
 "nbformat_minor": 4
}
